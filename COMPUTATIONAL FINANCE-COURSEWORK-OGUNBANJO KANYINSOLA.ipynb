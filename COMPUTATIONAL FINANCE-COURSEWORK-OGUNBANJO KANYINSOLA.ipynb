{
 "cells": [
  {
   "cell_type": "markdown",
   "id": "60ca54b9",
   "metadata": {},
   "source": [
    "# LOADING THE REQUIRED LIBRARIES"
   ]
  },
  {
   "cell_type": "code",
   "execution_count": 5,
   "id": "c517f29c",
   "metadata": {},
   "outputs": [],
   "source": [
    "import yfinance as yf\n",
    "import numpy as np\n",
    "import pandas as pd\n",
    "import matplotlib as mpl\n",
    "import matplotlib.pyplot as plt"
   ]
  },
  {
   "cell_type": "code",
   "execution_count": 6,
   "id": "e9d0cfca",
   "metadata": {},
   "outputs": [
    {
     "name": "stdout",
     "output_type": "stream",
     "text": [
      "[*********************100%***********************]  1 of 1 completed\n"
     ]
    }
   ],
   "source": [
    "initial_data = yf.download(\"OKB-USD\", start=\"2020-11-09\", end=\"2022-11-09\")"
   ]
  },
  {
   "cell_type": "code",
   "execution_count": 7,
   "id": "4353d136",
   "metadata": {},
   "outputs": [
    {
     "data": {
      "text/html": [
       "<div>\n",
       "<style scoped>\n",
       "    .dataframe tbody tr th:only-of-type {\n",
       "        vertical-align: middle;\n",
       "    }\n",
       "\n",
       "    .dataframe tbody tr th {\n",
       "        vertical-align: top;\n",
       "    }\n",
       "\n",
       "    .dataframe thead th {\n",
       "        text-align: right;\n",
       "    }\n",
       "</style>\n",
       "<table border=\"1\" class=\"dataframe\">\n",
       "  <thead>\n",
       "    <tr style=\"text-align: right;\">\n",
       "      <th></th>\n",
       "      <th>Open</th>\n",
       "      <th>High</th>\n",
       "      <th>Low</th>\n",
       "      <th>Close</th>\n",
       "      <th>Adj Close</th>\n",
       "      <th>Volume</th>\n",
       "    </tr>\n",
       "    <tr>\n",
       "      <th>Date</th>\n",
       "      <th></th>\n",
       "      <th></th>\n",
       "      <th></th>\n",
       "      <th></th>\n",
       "      <th></th>\n",
       "      <th></th>\n",
       "    </tr>\n",
       "  </thead>\n",
       "  <tbody>\n",
       "    <tr>\n",
       "      <th>2020-11-09</th>\n",
       "      <td>4.678750</td>\n",
       "      <td>4.709759</td>\n",
       "      <td>4.528785</td>\n",
       "      <td>4.603242</td>\n",
       "      <td>4.603242</td>\n",
       "      <td>57576387</td>\n",
       "    </tr>\n",
       "    <tr>\n",
       "      <th>2020-11-10</th>\n",
       "      <td>4.603250</td>\n",
       "      <td>4.683194</td>\n",
       "      <td>4.595386</td>\n",
       "      <td>4.620730</td>\n",
       "      <td>4.620730</td>\n",
       "      <td>47010393</td>\n",
       "    </tr>\n",
       "    <tr>\n",
       "      <th>2020-11-11</th>\n",
       "      <td>4.620730</td>\n",
       "      <td>4.804194</td>\n",
       "      <td>4.620730</td>\n",
       "      <td>4.750159</td>\n",
       "      <td>4.750159</td>\n",
       "      <td>63918541</td>\n",
       "    </tr>\n",
       "    <tr>\n",
       "      <th>2020-11-12</th>\n",
       "      <td>4.750069</td>\n",
       "      <td>4.851713</td>\n",
       "      <td>4.706156</td>\n",
       "      <td>4.820160</td>\n",
       "      <td>4.820160</td>\n",
       "      <td>58574139</td>\n",
       "    </tr>\n",
       "    <tr>\n",
       "      <th>2020-11-13</th>\n",
       "      <td>4.820015</td>\n",
       "      <td>4.931981</td>\n",
       "      <td>4.810786</td>\n",
       "      <td>4.869129</td>\n",
       "      <td>4.869129</td>\n",
       "      <td>56914804</td>\n",
       "    </tr>\n",
       "  </tbody>\n",
       "</table>\n",
       "</div>"
      ],
      "text/plain": [
       "                Open      High       Low     Close  Adj Close    Volume\n",
       "Date                                                                   \n",
       "2020-11-09  4.678750  4.709759  4.528785  4.603242   4.603242  57576387\n",
       "2020-11-10  4.603250  4.683194  4.595386  4.620730   4.620730  47010393\n",
       "2020-11-11  4.620730  4.804194  4.620730  4.750159   4.750159  63918541\n",
       "2020-11-12  4.750069  4.851713  4.706156  4.820160   4.820160  58574139\n",
       "2020-11-13  4.820015  4.931981  4.810786  4.869129   4.869129  56914804"
      ]
     },
     "execution_count": 7,
     "metadata": {},
     "output_type": "execute_result"
    }
   ],
   "source": [
    "initial_data.head()"
   ]
  },
  {
   "cell_type": "code",
   "execution_count": 8,
   "id": "a79675c5",
   "metadata": {},
   "outputs": [
    {
     "data": {
      "text/html": [
       "<div>\n",
       "<style scoped>\n",
       "    .dataframe tbody tr th:only-of-type {\n",
       "        vertical-align: middle;\n",
       "    }\n",
       "\n",
       "    .dataframe tbody tr th {\n",
       "        vertical-align: top;\n",
       "    }\n",
       "\n",
       "    .dataframe thead th {\n",
       "        text-align: right;\n",
       "    }\n",
       "</style>\n",
       "<table border=\"1\" class=\"dataframe\">\n",
       "  <thead>\n",
       "    <tr style=\"text-align: right;\">\n",
       "      <th></th>\n",
       "      <th>Open</th>\n",
       "      <th>High</th>\n",
       "      <th>Low</th>\n",
       "      <th>Close</th>\n",
       "      <th>Adj Close</th>\n",
       "      <th>Volume</th>\n",
       "    </tr>\n",
       "    <tr>\n",
       "      <th>Date</th>\n",
       "      <th></th>\n",
       "      <th></th>\n",
       "      <th></th>\n",
       "      <th></th>\n",
       "      <th></th>\n",
       "      <th></th>\n",
       "    </tr>\n",
       "  </thead>\n",
       "  <tbody>\n",
       "    <tr>\n",
       "      <th>2022-11-04</th>\n",
       "      <td>20.038273</td>\n",
       "      <td>21.512983</td>\n",
       "      <td>19.601307</td>\n",
       "      <td>20.633760</td>\n",
       "      <td>20.633760</td>\n",
       "      <td>56236246</td>\n",
       "    </tr>\n",
       "    <tr>\n",
       "      <th>2022-11-05</th>\n",
       "      <td>20.629585</td>\n",
       "      <td>22.754848</td>\n",
       "      <td>20.401960</td>\n",
       "      <td>22.163206</td>\n",
       "      <td>22.163206</td>\n",
       "      <td>46801658</td>\n",
       "    </tr>\n",
       "    <tr>\n",
       "      <th>2022-11-06</th>\n",
       "      <td>22.156361</td>\n",
       "      <td>22.762497</td>\n",
       "      <td>21.672909</td>\n",
       "      <td>21.869886</td>\n",
       "      <td>21.869886</td>\n",
       "      <td>33474823</td>\n",
       "    </tr>\n",
       "    <tr>\n",
       "      <th>2022-11-07</th>\n",
       "      <td>21.857143</td>\n",
       "      <td>23.887388</td>\n",
       "      <td>21.554930</td>\n",
       "      <td>22.868221</td>\n",
       "      <td>22.868221</td>\n",
       "      <td>44884632</td>\n",
       "    </tr>\n",
       "    <tr>\n",
       "      <th>2022-11-08</th>\n",
       "      <td>22.843252</td>\n",
       "      <td>23.354877</td>\n",
       "      <td>20.643599</td>\n",
       "      <td>21.228888</td>\n",
       "      <td>21.228888</td>\n",
       "      <td>52848821</td>\n",
       "    </tr>\n",
       "  </tbody>\n",
       "</table>\n",
       "</div>"
      ],
      "text/plain": [
       "                 Open       High        Low      Close  Adj Close    Volume\n",
       "Date                                                                       \n",
       "2022-11-04  20.038273  21.512983  19.601307  20.633760  20.633760  56236246\n",
       "2022-11-05  20.629585  22.754848  20.401960  22.163206  22.163206  46801658\n",
       "2022-11-06  22.156361  22.762497  21.672909  21.869886  21.869886  33474823\n",
       "2022-11-07  21.857143  23.887388  21.554930  22.868221  22.868221  44884632\n",
       "2022-11-08  22.843252  23.354877  20.643599  21.228888  21.228888  52848821"
      ]
     },
     "execution_count": 8,
     "metadata": {},
     "output_type": "execute_result"
    }
   ],
   "source": [
    "initial_data.tail()"
   ]
  },
  {
   "cell_type": "code",
   "execution_count": 9,
   "id": "c787ecf3",
   "metadata": {},
   "outputs": [
    {
     "data": {
      "text/plain": [
       "Date\n",
       "2020-11-09    4.603242\n",
       "2020-11-10    4.620730\n",
       "2020-11-11    4.750159\n",
       "2020-11-12    4.820160\n",
       "2020-11-13    4.869129\n",
       "Name: Adj Close, dtype: float64"
      ]
     },
     "execution_count": 9,
     "metadata": {},
     "output_type": "execute_result"
    }
   ],
   "source": [
    "initial_data['Adj Close'].head()"
   ]
  },
  {
   "cell_type": "code",
   "execution_count": 10,
   "id": "edb80f37",
   "metadata": {},
   "outputs": [
    {
     "name": "stdout",
     "output_type": "stream",
     "text": [
      "<class 'pandas.core.series.Series'>\n",
      "DatetimeIndex: 730 entries, 2020-11-09 to 2022-11-08\n",
      "Series name: Adj Close\n",
      "Non-Null Count  Dtype  \n",
      "--------------  -----  \n",
      "730 non-null    float64\n",
      "dtypes: float64(1)\n",
      "memory usage: 11.4 KB\n"
     ]
    }
   ],
   "source": [
    "data =  initial_data['Adj Close']\n",
    "data.info()"
   ]
  },
  {
   "cell_type": "code",
   "execution_count": 11,
   "id": "82f397fe",
   "metadata": {},
   "outputs": [
    {
     "data": {
      "text/plain": [
       "Date\n",
       "2020-11-09    4.603242\n",
       "2020-11-10    4.620730\n",
       "2020-11-11    4.750159\n",
       "2020-11-12    4.820160\n",
       "2020-11-13    4.869129\n",
       "Name: Adj Close, dtype: float64"
      ]
     },
     "execution_count": 11,
     "metadata": {},
     "output_type": "execute_result"
    }
   ],
   "source": [
    "data.head()"
   ]
  },
  {
   "cell_type": "code",
   "execution_count": 12,
   "id": "8ade3db0",
   "metadata": {},
   "outputs": [
    {
     "data": {
      "text/plain": [
       "Date\n",
       "2022-11-04    20.633760\n",
       "2022-11-05    22.163206\n",
       "2022-11-06    21.869886\n",
       "2022-11-07    22.868221\n",
       "2022-11-08    21.228888\n",
       "Name: Adj Close, dtype: float64"
      ]
     },
     "execution_count": 12,
     "metadata": {},
     "output_type": "execute_result"
    }
   ],
   "source": [
    "data.tail()"
   ]
  },
  {
   "cell_type": "markdown",
   "id": "b3ec6bd8",
   "metadata": {},
   "source": [
    "# PLOTTING THE MOVMENT OF THE CRYPTOCURRENCY"
   ]
  },
  {
   "cell_type": "code",
   "execution_count": 13,
   "id": "451347fd",
   "metadata": {},
   "outputs": [
    {
     "data": {
      "text/plain": [
       "array([<AxesSubplot:xlabel='Date'>], dtype=object)"
      ]
     },
     "execution_count": 13,
     "metadata": {},
     "output_type": "execute_result"
    },
    {
     "data": {
      "image/png": "[encoded data removed]",
      "text/plain": [
       "<Figure size 576x360 with 1 Axes>"
      ]
     },
     "metadata": {
      "needs_background": "light"
     },
     "output_type": "display_data"
    }
   ],
   "source": [
    "data.plot(figsize=(8, 5), subplots=True)"
   ]
  },
  {
   "cell_type": "code",
   "execution_count": 14,
   "id": "53495c24",
   "metadata": {},
   "outputs": [
    {
     "data": {
      "text/plain": [
       "count    730.00\n",
       "mean      16.88\n",
       "std        6.71\n",
       "min        4.60\n",
       "25%       12.50\n",
       "50%       16.86\n",
       "75%       20.85\n",
       "max       42.36\n",
       "Name: Adj Close, dtype: float64"
      ]
     },
     "execution_count": 14,
     "metadata": {},
     "output_type": "execute_result"
    }
   ],
   "source": [
    "data.describe().round(2)"
   ]
  },
  {
   "cell_type": "code",
   "execution_count": 15,
   "id": "5e295421",
   "metadata": {},
   "outputs": [
    {
     "name": "stdout",
     "output_type": "stream",
     "text": [
      "[*********************100%***********************]  1 of 1 completed\n"
     ]
    }
   ],
   "source": [
    "initial_data = yf.download(\"OKB-USD\", start=\"2022-08-09\", end=\"2022-11-09\")"
   ]
  },
  {
   "cell_type": "code",
   "execution_count": 16,
   "id": "182f550a",
   "metadata": {},
   "outputs": [
    {
     "data": {
      "text/html": [
       "<div>\n",
       "<style scoped>\n",
       "    .dataframe tbody tr th:only-of-type {\n",
       "        vertical-align: middle;\n",
       "    }\n",
       "\n",
       "    .dataframe tbody tr th {\n",
       "        vertical-align: top;\n",
       "    }\n",
       "\n",
       "    .dataframe thead th {\n",
       "        text-align: right;\n",
       "    }\n",
       "</style>\n",
       "<table border=\"1\" class=\"dataframe\">\n",
       "  <thead>\n",
       "    <tr style=\"text-align: right;\">\n",
       "      <th></th>\n",
       "      <th>Open</th>\n",
       "      <th>High</th>\n",
       "      <th>Low</th>\n",
       "      <th>Close</th>\n",
       "      <th>Adj Close</th>\n",
       "      <th>Volume</th>\n",
       "    </tr>\n",
       "    <tr>\n",
       "      <th>Date</th>\n",
       "      <th></th>\n",
       "      <th></th>\n",
       "      <th></th>\n",
       "      <th></th>\n",
       "      <th></th>\n",
       "      <th></th>\n",
       "    </tr>\n",
       "  </thead>\n",
       "  <tbody>\n",
       "    <tr>\n",
       "      <th>2022-08-09</th>\n",
       "      <td>18.459715</td>\n",
       "      <td>18.501064</td>\n",
       "      <td>17.941360</td>\n",
       "      <td>18.146439</td>\n",
       "      <td>18.146439</td>\n",
       "      <td>9983685</td>\n",
       "    </tr>\n",
       "    <tr>\n",
       "      <th>2022-08-10</th>\n",
       "      <td>18.146765</td>\n",
       "      <td>19.353716</td>\n",
       "      <td>17.907879</td>\n",
       "      <td>19.003168</td>\n",
       "      <td>19.003168</td>\n",
       "      <td>14472386</td>\n",
       "    </tr>\n",
       "    <tr>\n",
       "      <th>2022-08-11</th>\n",
       "      <td>18.942318</td>\n",
       "      <td>19.278290</td>\n",
       "      <td>18.640669</td>\n",
       "      <td>18.658867</td>\n",
       "      <td>18.658867</td>\n",
       "      <td>10214505</td>\n",
       "    </tr>\n",
       "    <tr>\n",
       "      <th>2022-08-12</th>\n",
       "      <td>18.651711</td>\n",
       "      <td>21.424358</td>\n",
       "      <td>18.507929</td>\n",
       "      <td>20.946730</td>\n",
       "      <td>20.946730</td>\n",
       "      <td>36228671</td>\n",
       "    </tr>\n",
       "    <tr>\n",
       "      <th>2022-08-13</th>\n",
       "      <td>20.950560</td>\n",
       "      <td>22.490656</td>\n",
       "      <td>20.887945</td>\n",
       "      <td>21.917870</td>\n",
       "      <td>21.917870</td>\n",
       "      <td>18297069</td>\n",
       "    </tr>\n",
       "  </tbody>\n",
       "</table>\n",
       "</div>"
      ],
      "text/plain": [
       "                 Open       High        Low      Close  Adj Close    Volume\n",
       "Date                                                                       \n",
       "2022-08-09  18.459715  18.501064  17.941360  18.146439  18.146439   9983685\n",
       "2022-08-10  18.146765  19.353716  17.907879  19.003168  19.003168  14472386\n",
       "2022-08-11  18.942318  19.278290  18.640669  18.658867  18.658867  10214505\n",
       "2022-08-12  18.651711  21.424358  18.507929  20.946730  20.946730  36228671\n",
       "2022-08-13  20.950560  22.490656  20.887945  21.917870  21.917870  18297069"
      ]
     },
     "execution_count": 16,
     "metadata": {},
     "output_type": "execute_result"
    }
   ],
   "source": [
    "initial_data.head()"
   ]
  },
  {
   "cell_type": "code",
   "execution_count": 17,
   "id": "c4f8a6d1",
   "metadata": {},
   "outputs": [
    {
     "data": {
      "text/plain": [
       "Date\n",
       "2022-08-09    18.146439\n",
       "2022-08-10    19.003168\n",
       "2022-08-11    18.658867\n",
       "2022-08-12    20.946730\n",
       "2022-08-13    21.917870\n",
       "Name: Adj Close, dtype: float64"
      ]
     },
     "execution_count": 17,
     "metadata": {},
     "output_type": "execute_result"
    }
   ],
   "source": [
    "initial_data['Adj Close'].head()"
   ]
  },
  {
   "cell_type": "markdown",
   "id": "2e7f2eed",
   "metadata": {},
   "source": [
    "# EXTRACTING THE ADJUSTED CLOSE COLUMN"
   ]
  },
  {
   "cell_type": "code",
   "execution_count": 18,
   "id": "843fd600",
   "metadata": {},
   "outputs": [
    {
     "name": "stdout",
     "output_type": "stream",
     "text": [
      "<class 'pandas.core.series.Series'>\n",
      "DatetimeIndex: 92 entries, 2022-08-09 to 2022-11-08\n",
      "Series name: Adj Close\n",
      "Non-Null Count  Dtype  \n",
      "--------------  -----  \n",
      "92 non-null     float64\n",
      "dtypes: float64(1)\n",
      "memory usage: 1.4 KB\n"
     ]
    }
   ],
   "source": [
    "data =  initial_data['Adj Close']\n",
    "data.info()"
   ]
  },
  {
   "cell_type": "code",
   "execution_count": 19,
   "id": "27fcdfa4",
   "metadata": {},
   "outputs": [
    {
     "data": {
      "text/plain": [
       "Date\n",
       "2022-08-09    18.146439\n",
       "2022-08-10    19.003168\n",
       "2022-08-11    18.658867\n",
       "2022-08-12    20.946730\n",
       "2022-08-13    21.917870\n",
       "Name: Adj Close, dtype: float64"
      ]
     },
     "execution_count": 19,
     "metadata": {},
     "output_type": "execute_result"
    }
   ],
   "source": [
    "data.head()"
   ]
  },
  {
   "cell_type": "code",
   "execution_count": 20,
   "id": "2695924f",
   "metadata": {},
   "outputs": [
    {
     "data": {
      "text/plain": [
       "Date\n",
       "2022-11-04    20.633760\n",
       "2022-11-05    22.163206\n",
       "2022-11-06    21.869886\n",
       "2022-11-07    22.868221\n",
       "2022-11-08    21.228888\n",
       "Name: Adj Close, dtype: float64"
      ]
     },
     "execution_count": 20,
     "metadata": {},
     "output_type": "execute_result"
    }
   ],
   "source": [
    "data.tail()"
   ]
  },
  {
   "cell_type": "markdown",
   "id": "689c8064",
   "metadata": {},
   "source": [
    "# PLOTTING THE MOVEMENT OF THE CRYPTOCURRENCY AND CALCULATE THE ANNUALIZED VOLATILITY"
   ]
  },
  {
   "cell_type": "code",
   "execution_count": 21,
   "id": "e1590751",
   "metadata": {},
   "outputs": [
    {
     "data": {
      "text/plain": [
       "array([<AxesSubplot:xlabel='Date'>], dtype=object)"
      ]
     },
     "execution_count": 21,
     "metadata": {},
     "output_type": "execute_result"
    },
    {
     "data": {
      "image/png": "[encoded data removed]",
      "text/plain": [
       "<Figure size 576x360 with 1 Axes>"
      ]
     },
     "metadata": {
      "needs_background": "light"
     },
     "output_type": "display_data"
    }
   ],
   "source": [
    "data.plot(figsize=(8, 5), subplots=True)"
   ]
  },
  {
   "cell_type": "code",
   "execution_count": 22,
   "id": "4a1ed11f",
   "metadata": {},
   "outputs": [
    {
     "data": {
      "text/plain": [
       "count    92.00\n",
       "mean     16.78\n",
       "std       2.07\n",
       "min      14.08\n",
       "25%      15.49\n",
       "50%      16.09\n",
       "75%      17.22\n",
       "max      22.87\n",
       "Name: Adj Close, dtype: float64"
      ]
     },
     "execution_count": 22,
     "metadata": {},
     "output_type": "execute_result"
    }
   ],
   "source": [
    "data.describe().round(2)"
   ]
  },
  {
   "cell_type": "code",
   "execution_count": 23,
   "id": "ddce41f0",
   "metadata": {},
   "outputs": [
    {
     "data": {
      "text/plain": [
       "Date\n",
       "2022-08-10    19.003168\n",
       "2022-08-11    18.658867\n",
       "2022-08-12    20.946730\n",
       "2022-08-13    21.917870\n",
       "2022-08-14    21.616673\n",
       "Name: Adj Close, dtype: float64"
      ]
     },
     "execution_count": 23,
     "metadata": {},
     "output_type": "execute_result"
    }
   ],
   "source": [
    "df=data[-91:-1]\n",
    "df.head()"
   ]
  },
  {
   "cell_type": "code",
   "execution_count": 27,
   "id": "7324599a",
   "metadata": {},
   "outputs": [
    {
     "data": {
      "text/plain": [
       "Date\n",
       "2022-08-10         NaN\n",
       "2022-08-11   -0.018284\n",
       "2022-08-12    0.115661\n",
       "2022-08-13    0.045320\n",
       "2022-08-14   -0.013837\n",
       "                ...   \n",
       "2022-11-03    0.216022\n",
       "2022-11-04    0.028939\n",
       "2022-11-05    0.071505\n",
       "2022-11-06   -0.013323\n",
       "2022-11-07    0.044638\n",
       "Name: Adj Close, Length: 90, dtype: float64"
      ]
     },
     "execution_count": 27,
     "metadata": {},
     "output_type": "execute_result"
    }
   ],
   "source": [
    "log_return = np.log(df / df.shift(1))\n",
    "log_return"
   ]
  },
  {
   "cell_type": "markdown",
   "id": "e0ad40df",
   "metadata": {},
   "source": [
    "# PLOTTING OF LOG RETURN"
   ]
  },
  {
   "cell_type": "code",
   "execution_count": 78,
   "id": "30738101",
   "metadata": {},
   "outputs": [
    {
     "data": {
      "image/png": "[encoded data removed]",
      "text/plain": [
       "<Figure size 432x288 with 1 Axes>"
      ]
     },
     "metadata": {
      "needs_background": "light"
     },
     "output_type": "display_data"
    }
   ],
   "source": [
    "fig = plt.figure()\n",
    "plt.plot(log_return)\n",
    "#plt.plot(log_return, np.maximum(S-0.2287))\n",
    "plt.xlabel('Date')\n",
    "plt.ylabel('log return')\n",
    "plt.title('Log Return')\n",
    "plt.show()"
   ]
  },
  {
   "cell_type": "code",
   "execution_count": 29,
   "id": "0d0fe410",
   "metadata": {},
   "outputs": [
    {
     "name": "stdout",
     "output_type": "stream",
     "text": [
      "The annualised volatility is 84.44 %\n"
     ]
    }
   ],
   "source": [
    "vol = np.sqrt(365) * log_return.std()\n",
    "print('The annualised volatility is', round(vol*100,2), '%')"
   ]
  },
  {
   "cell_type": "code",
   "execution_count": 30,
   "id": "94dd8920",
   "metadata": {},
   "outputs": [
    {
     "data": {
      "text/plain": [
       "22.868221282958984"
      ]
     },
     "execution_count": 30,
     "metadata": {},
     "output_type": "execute_result"
    }
   ],
   "source": [
    "df[-1]  #spot price"
   ]
  },
  {
   "cell_type": "markdown",
   "id": "e17094e2",
   "metadata": {},
   "source": [
    "# DESIGNING THE DERIVATIVE"
   ]
  },
  {
   "cell_type": "code",
   "execution_count": 31,
   "id": "529c54aa",
   "metadata": {},
   "outputs": [],
   "source": [
    "import numpy as np\n",
    "import pandas as pd\n",
    "import matplotlib.pyplot as plt\n",
    "import scipy.stats as si\n",
    "import yfinance as yf"
   ]
  },
  {
   "cell_type": "markdown",
   "id": "9c2127f2",
   "metadata": {},
   "source": [
    "# BLACK SCHOLES MODEL"
   ]
  },
  {
   "cell_type": "markdown",
   "id": "b67d2ea9",
   "metadata": {},
   "source": [
    "# EUROPEAN CALL OPTION ON A NON DIVIDEND PAYING CRYPTO"
   ]
  },
  {
   "cell_type": "code",
   "execution_count": 33,
   "id": "8b37d532",
   "metadata": {},
   "outputs": [],
   "source": [
    "def euro_option_bs(S, K, T, r, vol, payoff):\n",
    "    \n",
    "    #S: spot price\n",
    "    #K: strike price\n",
    "    #T: time to maturity\n",
    "    #r: interest rate\n",
    "    #vol: volatility of underlying asset\n",
    "    #payoff: call or put\n",
    "    \n",
    "    d1 = (np.log(S / K) + (r + 0.5 * vol ** 2) * T) / (vol * np.sqrt(T))\n",
    "    d2 = (np.log(S / K) + (r - 0.5 * vol ** 2) * T) / (vol * np.sqrt(T))\n",
    "    if payoff == \"call\":\n",
    "        option_value = S * si.norm.cdf(d1, 0.0, 1.0) - K * np.exp(-r * T) * si.norm.cdf(d2, 0.0, 1.0)\n",
    "    elif payoff == \"put\":\n",
    "        option_value = - S * si.norm.cdf(-d1, 0.0, 1.0) + K * np.exp(-r * T) * si.norm.cdf(-d2, 0.0, 1.0)\n",
    "    \n",
    "    return option_value"
   ]
  },
  {
   "cell_type": "code",
   "execution_count": 34,
   "id": "015d4072",
   "metadata": {},
   "outputs": [
    {
     "data": {
      "text/plain": [
       "3.8156557637090938"
      ]
     },
     "execution_count": 34,
     "metadata": {},
     "output_type": "execute_result"
    }
   ],
   "source": [
    " euro_option_bs(22.86, 23.00, 0.25, 0.03, 0.84, 'call')"
   ]
  },
  {
   "cell_type": "markdown",
   "id": "cbc0e5fb",
   "metadata": {},
   "source": [
    "BLACK SCHOLES MODEL WITH A CALL OPTION PRICE OF 3.815"
   ]
  },
  {
   "cell_type": "code",
   "execution_count": 37,
   "id": "c122cf29",
   "metadata": {},
   "outputs": [],
   "source": [
    "S = np.linspace(7.00,34.00,14)\n",
    "cp = np.zeros((len(S),1))\n",
    "for i in range(len(S)):\n",
    "    cp[i] = euro_option_bs(S[i], 22.86, 0.25, 0.03, 0.84, 'call')"
   ]
  },
  {
   "cell_type": "code",
   "execution_count": 38,
   "id": "9b69b10b",
   "metadata": {},
   "outputs": [
    {
     "data": {
      "text/plain": [
       "<matplotlib.legend.Legend at 0x1b6d29de6d0>"
      ]
     },
     "execution_count": 38,
     "metadata": {},
     "output_type": "execute_result"
    },
    {
     "data": {
      "image/png": "[encoded data removed]",
      "text/plain": [
       "<Figure size 432x288 with 1 Axes>"
      ]
     },
     "metadata": {
      "needs_background": "light"
     },
     "output_type": "display_data"
    }
   ],
   "source": [
    "fig = plt.figure()\n",
    "plt.plot(S, cp, '-')\n",
    "plt.plot(S, np.maximum(S-22.86,0), '--')\n",
    "plt.xlabel('Stock Price')\n",
    "plt.ylabel('Price')\n",
    "plt.title('European Call')\n",
    "plt.legend(['Option Price','Payoff at T'])"
   ]
  },
  {
   "cell_type": "markdown",
   "id": "73115488",
   "metadata": {},
   "source": [
    "# MONTE CARLO SIMULATION"
   ]
  },
  {
   "cell_type": "code",
   "execution_count": 39,
   "id": "eb240f7e",
   "metadata": {},
   "outputs": [],
   "source": [
    "def mcs_simulation_np(p):\n",
    "    M = p\n",
    "    I = p\n",
    "    dt = T / M \n",
    "    S = np.zeros((M + 1, I))\n",
    "    S[0] = S0 \n",
    "    rn = np.random.standard_normal(S.shape) \n",
    "    for t in range(1, M + 1): \n",
    "        S[t] = S[t-1] * np.exp((r - sigma ** 2 / 2) * dt + sigma * np.sqrt(dt) * rn[t]) \n",
    "    return S"
   ]
  },
  {
   "cell_type": "code",
   "execution_count": 41,
   "id": "c4f548a4",
   "metadata": {},
   "outputs": [],
   "source": [
    "T = 0.25\n",
    "r = 0.03\n",
    "vol= 0.84\n",
    "S0 = 22.86\n",
    "K = 23.00"
   ]
  },
  {
   "cell_type": "code",
   "execution_count": 42,
   "id": "edf66797",
   "metadata": {},
   "outputs": [],
   "source": [
    "S = mcs_simulation_np(1000)"
   ]
  },
  {
   "cell_type": "code",
   "execution_count": 43,
   "id": "048aa439",
   "metadata": {},
   "outputs": [
    {
     "data": {
      "text/plain": [
       "array([[22.86      , 22.86664738, 22.79371833, ..., 20.25317913,\n",
       "        20.01893891, 20.36643386],\n",
       "       [22.86      , 23.16711029, 23.10018791, ..., 19.85163051,\n",
       "        19.89402015, 19.58919654],\n",
       "       [22.86      , 23.10073813, 23.41189446, ..., 21.936598  ,\n",
       "        22.06871087, 22.82952363],\n",
       "       ...,\n",
       "       [22.86      , 22.98598542, 23.06663721, ..., 26.2559083 ,\n",
       "        26.24141528, 25.79123986],\n",
       "       [22.86      , 23.4364343 , 23.84189954, ..., 30.3249875 ,\n",
       "        30.3385667 , 30.73802115],\n",
       "       [22.86      , 22.84979563, 22.02749458, ..., 18.80792229,\n",
       "        18.98464954, 19.33434506]])"
      ]
     },
     "execution_count": 43,
     "metadata": {},
     "output_type": "execute_result"
    }
   ],
   "source": [
    "S = np.transpose(S)\n",
    "S"
   ]
  },
  {
   "cell_type": "code",
   "execution_count": 44,
   "id": "573ba65f",
   "metadata": {},
   "outputs": [
    {
     "data": {
      "text/plain": [
       "Text(0.5, 1.0, 'Frequency distribution of the simulated end-of-preiod values')"
      ]
     },
     "execution_count": 44,
     "metadata": {},
     "output_type": "execute_result"
    },
    {
     "data": {
      "image/png": "[encoded data removed]",
      "text/plain": [
       "<Figure size 432x288 with 1 Axes>"
      ]
     },
     "metadata": {
      "needs_background": "light"
     },
     "output_type": "display_data"
    }
   ],
   "source": [
    "import matplotlib.pyplot as plt\n",
    "n, bins, patches = plt.hist(x=S[:,-1], bins='auto', color='#0504aa',alpha=0.7, rwidth=0.85)\n",
    "\n",
    "plt.grid(axis='y', alpha=0.75)\n",
    "plt.xlabel('S_T')\n",
    "plt.ylabel('Frequency')\n",
    "plt.title('Frequency distribution of the simulated end-of-preiod values')"
   ]
  },
  {
   "cell_type": "code",
   "execution_count": 45,
   "id": "b7270cd6",
   "metadata": {},
   "outputs": [
    {
     "name": "stdout",
     "output_type": "stream",
     "text": [
      "European call 3.704053501867557\n"
     ]
    }
   ],
   "source": [
    "c = np.mean(np.maximum(S[:,-1] -K, 0))\n",
    "print('European call', str(c))"
   ]
  },
  {
   "cell_type": "markdown",
   "id": "47fc3954",
   "metadata": {},
   "source": [
    "MONTE CARLO SIMULATION WITH AN EUROPEAN CALL OPTION PRICE OF 3.704"
   ]
  },
  {
   "cell_type": "markdown",
   "id": "a763dc98",
   "metadata": {},
   "source": [
    "# GREEK VARIABLES"
   ]
  },
  {
   "cell_type": "code",
   "execution_count": 46,
   "id": "fefe2cb6",
   "metadata": {},
   "outputs": [],
   "source": [
    "import numpy as np\n",
    "import pandas as pd\n",
    "import matplotlib.pyplot as plt\n",
    "import scipy.stats as si"
   ]
  },
  {
   "cell_type": "markdown",
   "id": "70b49e9c",
   "metadata": {},
   "source": [
    "# DELTA"
   ]
  },
  {
   "cell_type": "code",
   "execution_count": 47,
   "id": "5f1c6dca",
   "metadata": {},
   "outputs": [],
   "source": [
    "def delta(S, K, T, r, q, vol, payoff):\n",
    "    \n",
    "   \n",
    "    d1 = (np.log(S / K) + (r - q + 0.5 * vol ** 2) * T) / (vol * np.sqrt(T))\n",
    "    if payoff == \"call\":\n",
    "        delta = np.exp(-q * T) * si.norm.cdf(d1, 0.0, 1.0)\n",
    "    elif payoff == \"put\":\n",
    "        delta =  -np.exp(-q * T) * si.norm.cdf(-d1, 0.0, 1.0)\n",
    "    \n",
    "    return delta"
   ]
  },
  {
   "cell_type": "code",
   "execution_count": 48,
   "id": "38af7082",
   "metadata": {},
   "outputs": [
    {
     "data": {
      "text/plain": [
       "0.5844613519978454"
      ]
     },
     "execution_count": 48,
     "metadata": {},
     "output_type": "execute_result"
    }
   ],
   "source": [
    "delta(22.86, 23.00, 0.25, 0.03, 0.0, 0.84, 'call')"
   ]
  },
  {
   "cell_type": "markdown",
   "id": "7c1375f6",
   "metadata": {},
   "source": [
    " Delta analyses the sensitivity of the option or portfolio to the underlying asset price. Delta of 0.58 implies that if the asset price increases from 22.86 to 23.86, call option value will increase by 0.58 dollar. "
   ]
  },
  {
   "cell_type": "code",
   "execution_count": 49,
   "id": "a07b29e0",
   "metadata": {},
   "outputs": [],
   "source": [
    "S = np.linspace(7.00,34.00,14)\n",
    "Delta_Call = np.zeros((len(S),1))\n",
    "Delta_Put = np.zeros((len(S),1))\n",
    "for i in range(len(S)):\n",
    "    Delta_Call [i] = delta(S[i], 22.86, 0.25, 0.03, 0, 0.84, 'call')"
   ]
  },
  {
   "cell_type": "code",
   "execution_count": 50,
   "id": "10c26d02",
   "metadata": {},
   "outputs": [
    {
     "data": {
      "text/plain": [
       "<matplotlib.legend.Legend at 0x1b6d32b40a0>"
      ]
     },
     "execution_count": 50,
     "metadata": {},
     "output_type": "execute_result"
    },
    {
     "data": {
      "image/png": "[encoded data removed]",
      "text/plain": [
       "<Figure size 432x288 with 1 Axes>"
      ]
     },
     "metadata": {
      "needs_background": "light"
     },
     "output_type": "display_data"
    }
   ],
   "source": [
    "fig = plt.figure()\n",
    "plt.plot(S, Delta_Call, '-')\n",
    "plt.grid()\n",
    "plt.xlabel('Stock price')\n",
    "plt.ylabel('Delta')\n",
    "plt.title('Delta')\n",
    "plt.legend(['Delta for Call'])"
   ]
  },
  {
   "cell_type": "markdown",
   "id": "886a923a",
   "metadata": {},
   "source": [
    "# GAMMA"
   ]
  },
  {
   "cell_type": "code",
   "execution_count": 51,
   "id": "67748a67",
   "metadata": {},
   "outputs": [],
   "source": [
    "def gamma(S, K, T, r, q, vol, payoff):\n",
    "    \n",
    "    d1 = (np.log(S / K) + (r - q + 0.5 * vol ** 2) * T) / (vol * np.sqrt(T))\n",
    "    gamma = np.exp(- q * T) * si.norm.pdf(d1, 0.0, 1.0) / (vol * S * np.sqrt(T))\n",
    "    \n",
    "    return gamma"
   ]
  },
  {
   "cell_type": "code",
   "execution_count": 53,
   "id": "3089d849",
   "metadata": {},
   "outputs": [
    {
     "data": {
      "text/plain": [
       "0.04061656232088612"
      ]
     },
     "execution_count": 53,
     "metadata": {},
     "output_type": "execute_result"
    }
   ],
   "source": [
    "gamma(22.86, 23.00, 0.25, 0.03, 0, 0.84, 'call')"
   ]
  },
  {
   "cell_type": "markdown",
   "id": "2a7df696",
   "metadata": {},
   "source": [
    " Gamma measures the change in Delta with respect to the change in the underlying asset price.. If the underlying asset price increases by 1 dollar, the delta will increase by 0.04. The Gamma always has a positive value."
   ]
  },
  {
   "cell_type": "code",
   "execution_count": 55,
   "id": "d3667736",
   "metadata": {},
   "outputs": [],
   "source": [
    "S = np.linspace(7.00,34.00,14)\n",
    "Gamma = np.zeros((len(S),1))\n",
    "for i in range(len(S)):\n",
    "    Gamma [i] = gamma(S[i], 22.86, 0.25, 0.03,0,  0.84, 'call')"
   ]
  },
  {
   "cell_type": "code",
   "execution_count": 56,
   "id": "444d74da",
   "metadata": {},
   "outputs": [
    {
     "data": {
      "text/plain": [
       "<matplotlib.legend.Legend at 0x1b6d32fe9d0>"
      ]
     },
     "execution_count": 56,
     "metadata": {},
     "output_type": "execute_result"
    },
    {
     "data": {
      "image/png": "[encoded data removed]",
      "text/plain": [
       "<Figure size 432x288 with 1 Axes>"
      ]
     },
     "metadata": {
      "needs_background": "light"
     },
     "output_type": "display_data"
    }
   ],
   "source": [
    "fig = plt.figure()\n",
    "plt.plot(S, Gamma, '-')\n",
    "plt.grid()\n",
    "plt.xlabel('Stock Price')\n",
    "plt.ylabel('Gamma')\n",
    "plt.title('Gamma')\n",
    "plt.legend(['Gamma for Call'])"
   ]
  },
  {
   "cell_type": "markdown",
   "id": "db3edbfd",
   "metadata": {},
   "source": [
    "# SPEED"
   ]
  },
  {
   "cell_type": "code",
   "execution_count": 57,
   "id": "8547d47b",
   "metadata": {},
   "outputs": [],
   "source": [
    "def speed(S, K, T, r, q, vol, payoff):\n",
    "    \n",
    "    d1 = (np.log(S / K) + (r - q + 0.5 * vol ** 2) * T) / (vol * np.sqrt(T))\n",
    "    speed = - np.exp(-q * T) * si.norm.pdf(d1, 0.0, 1.0) / ((vol **2) * (S**2) * np.sqrt(T)) * (d1 + vol * np.sqrt(T))\n",
    "    \n",
    "    return speed"
   ]
  },
  {
   "cell_type": "code",
   "execution_count": 58,
   "id": "4767037e",
   "metadata": {},
   "outputs": [
    {
     "data": {
      "text/plain": [
       "-0.001339586997095685"
      ]
     },
     "execution_count": 58,
     "metadata": {},
     "output_type": "execute_result"
    }
   ],
   "source": [
    "speed(22.86, 23.00, 0.25, 0.03, 0, 0.84, 'call')"
   ]
  },
  {
   "cell_type": "markdown",
   "id": "b58a51b5",
   "metadata": {},
   "source": [
    " This is the first order derivative for gamma. It measures the rate of change of the gamma with respect to the change in te underling asset price. Where the underlying asset price increases from 22.86 to 23.86 then the gamma will decrease by 0.001"
   ]
  },
  {
   "cell_type": "code",
   "execution_count": 59,
   "id": "15a285e4",
   "metadata": {},
   "outputs": [],
   "source": [
    "S = np.linspace(7.00,34.00,14)\n",
    "Speed = np.zeros((len(S),1))\n",
    "for i in range(len(S)):\n",
    "    Speed [i] = speed(S[i], 22.86, 0.25, 0.03, 0, 0.84, 'call')"
   ]
  },
  {
   "cell_type": "code",
   "execution_count": 60,
   "id": "bd2f8203",
   "metadata": {},
   "outputs": [
    {
     "data": {
      "text/plain": [
       "<matplotlib.legend.Legend at 0x1b6d3309e80>"
      ]
     },
     "execution_count": 60,
     "metadata": {},
     "output_type": "execute_result"
    },
    {
     "data": {
      "image/png": "[encoded data removed]",
      "text/plain": [
       "<Figure size 432x288 with 1 Axes>"
      ]
     },
     "metadata": {
      "needs_background": "light"
     },
     "output_type": "display_data"
    }
   ],
   "source": [
    "fig = plt.figure()\n",
    "plt.plot(S, Speed, '-')\n",
    "plt.grid()\n",
    "plt.xlabel('Stock Price')\n",
    "plt.ylabel('Speed')\n",
    "plt.title('Speed')\n",
    "plt.legend(['Speed for Call'])"
   ]
  },
  {
   "cell_type": "markdown",
   "id": "8b0b5d93",
   "metadata": {},
   "source": [
    "# THETA"
   ]
  },
  {
   "cell_type": "code",
   "execution_count": 61,
   "id": "5514efbc",
   "metadata": {},
   "outputs": [],
   "source": [
    "def theta(S, K, T, r, q, vol, payoff):\n",
    "    \n",
    "    d1 = (np.log(S / K) + (r - q + 0.5 * vol ** 2) * T) / (vol * np.sqrt(T))\n",
    "    d2 = (np.log(S / K) + (r - q - 0.5 * vol ** 2) * T) / (vol * np.sqrt(T))\n",
    "    if payoff == \"call\":\n",
    "        theta = vol * S * np.exp(-q * T) * si.norm.pdf(d1, 0.0, 1.0) / (2 * np.sqrt(T)) - q * S * np.exp(-q * T) * si.norm.cdf(d1, 0.0, 1.0) + r * K * np.exp(-r * T) * si.norm.cdf(d2, 0.0, 1.0)\n",
    "    elif payoff == \"put\":\n",
    "        theta = vol * S * np.exp(-q * T) * si.norm.pdf(-d1, 0.0, 1.0) / (2 * np.sqrt(T)) - q * S * np.exp(-q * T) * si.norm.cdf(-d1, 0.0, 1.0) + r * K * np.exp(-r * T) * si.norm.cdf(-d2, 0.0, 1.0)\n",
    "    \n",
    "    return theta"
   ]
  },
  {
   "cell_type": "code",
   "execution_count": 62,
   "id": "a9937ea6",
   "metadata": {},
   "outputs": [
    {
     "data": {
      "text/plain": [
       "7.774670417442023"
      ]
     },
     "execution_count": 62,
     "metadata": {},
     "output_type": "execute_result"
    }
   ],
   "source": [
    "theta(22.86, 23.00, 0.25, 0.03, 0, 0.84, 'call')"
   ]
  },
  {
   "cell_type": "code",
   "execution_count": 63,
   "id": "e78fd9a9",
   "metadata": {},
   "outputs": [
    {
     "data": {
      "text/plain": [
       "0.14951289264311582"
      ]
     },
     "execution_count": 63,
     "metadata": {},
     "output_type": "execute_result"
    }
   ],
   "source": [
    "7.774670417442023 / 52"
   ]
  },
  {
   "cell_type": "markdown",
   "id": "b54e4593",
   "metadata": {},
   "source": [
    "Theta is the measurement of time. A theta of 0.149 implies that if time increases by 1 week, option value will increase by 0.14 dollar. "
   ]
  },
  {
   "cell_type": "code",
   "execution_count": 64,
   "id": "7c8f4e1c",
   "metadata": {},
   "outputs": [],
   "source": [
    "T = np.linspace(0.25,2,10)\n",
    "Theta_Call = np.zeros((len(T),1))\n",
    "Theta_Put = np.zeros((len(T),1))\n",
    "for i in range(len(T)):\n",
    "    Theta_Call [i] = theta(22.86, 23.00, T[i], 0.25, 0.03, 0.84, 'call')"
   ]
  },
  {
   "cell_type": "code",
   "execution_count": 65,
   "id": "a0356c23",
   "metadata": {},
   "outputs": [
    {
     "data": {
      "text/plain": [
       "<matplotlib.legend.Legend at 0x1b6d338d550>"
      ]
     },
     "execution_count": 65,
     "metadata": {},
     "output_type": "execute_result"
    },
    {
     "data": {
      "image/png": "[encoded data removed]",
      "text/plain": [
       "<Figure size 432x288 with 1 Axes>"
      ]
     },
     "metadata": {
      "needs_background": "light"
     },
     "output_type": "display_data"
    }
   ],
   "source": [
    "fig = plt.figure()\n",
    "plt.plot(T, Theta_Call, '-')\n",
    "plt.grid()\n",
    "plt.xlabel('Time to Expiry')\n",
    "plt.ylabel('Theta')\n",
    "plt.title('Theta')\n",
    "plt.legend(['Theta for Call'])"
   ]
  },
  {
   "cell_type": "markdown",
   "id": "e903c4f3",
   "metadata": {},
   "source": [
    "# RHO"
   ]
  },
  {
   "cell_type": "code",
   "execution_count": 66,
   "id": "f106fc53",
   "metadata": {},
   "outputs": [],
   "source": [
    "def rho(S, K, T, r, q, vol, payoff):\n",
    "    \n",
    "    d1 = (np.log(S / K) + (r - q + 0.5 * vol ** 2) * T) / (vol * np.sqrt(T))\n",
    "    d2 = (np.log(S / K) + (r - q - 0.5 * vol ** 2) * T) / (vol * np.sqrt(T))\n",
    "    if payoff == \"call\":\n",
    "        rho =  K * T * np.exp(-r * T) * si.norm.cdf(d2, 0.0, 1.0)\n",
    "    elif payoff == \"put\":\n",
    "        rho = - K * T * np.exp(-r * T) * si.norm.cdf(-d2, 0.0, 1.0)\n",
    "    \n",
    "    return rho"
   ]
  },
  {
   "cell_type": "code",
   "execution_count": 67,
   "id": "f38e91c0",
   "metadata": {},
   "outputs": [
    {
     "data": {
      "text/plain": [
       "2.3862826857404134"
      ]
     },
     "execution_count": 67,
     "metadata": {},
     "output_type": "execute_result"
    }
   ],
   "source": [
    "rho(22.86, 23.00, 0.25, 0.03, 0, 0.84, 'call')"
   ]
  },
  {
   "cell_type": "markdown",
   "id": "84bfa44d",
   "metadata": {},
   "source": [
    "This is the first order derivative with respect to the interest rate. The value of RHO is 2.386. If interest rate increases by 1% call option price will increase by 0.023 dollar. "
   ]
  },
  {
   "cell_type": "code",
   "execution_count": 68,
   "id": "9d762676",
   "metadata": {},
   "outputs": [],
   "source": [
    "r = np.linspace(0,0.1,11)\n",
    "Rho_Call = np.zeros((len(r),1))\n",
    "for i in range(len(r)):\n",
    "    Rho_Call [i] = rho(22.86, 23.00, 0.25, r[i], 0.03, 0.84, 'call')"
   ]
  },
  {
   "cell_type": "code",
   "execution_count": 69,
   "id": "1fbffb42",
   "metadata": {},
   "outputs": [
    {
     "data": {
      "text/plain": [
       "<matplotlib.legend.Legend at 0x1b6d337b6d0>"
      ]
     },
     "execution_count": 69,
     "metadata": {},
     "output_type": "execute_result"
    },
    {
     "data": {
      "image/png": "[encoded data removed]",
      "text/plain": [
       "<Figure size 432x288 with 1 Axes>"
      ]
     },
     "metadata": {
      "needs_background": "light"
     },
     "output_type": "display_data"
    }
   ],
   "source": [
    "fig = plt.figure()\n",
    "plt.plot(r, Rho_Call, '-')\n",
    "plt.grid()\n",
    "plt.xlabel('Interest Rate')\n",
    "plt.ylabel('Rho')\n",
    "plt.title('Rho')\n",
    "plt.legend(['Rho for Call',])"
   ]
  },
  {
   "cell_type": "code",
   "execution_count": null,
   "id": "1210b4d0",
   "metadata": {},
   "outputs": [],
   "source": []
  }
 ],
 "metadata": {
  "kernelspec": {
   "display_name": "Python 3 (ipykernel)",
   "language": "python",
   "name": "python3"
  },
  "language_info": {
   "codemirror_mode": {
    "name": "ipython",
    "version": 3
   },
   "file_extension": ".py",
   "mimetype": "text/x-python",
   "name": "python",
   "nbconvert_exporter": "python",
   "pygments_lexer": "ipython3",
   "version": "3.9.12"
  }
 },
 "nbformat": 4,
 "nbformat_minor": 5
}
